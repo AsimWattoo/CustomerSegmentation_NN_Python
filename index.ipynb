{
 "cells": [
  {
   "cell_type": "code",
   "execution_count": 90,
   "metadata": {},
   "outputs": [
    {
     "data": {
      "text/plain": [
       "<module 'NN' from 'd:\\\\Work\\\\Programming\\\\Jupyter\\\\Customer Segmentation NN\\\\NN.py'>"
      ]
     },
     "execution_count": 90,
     "metadata": {},
     "output_type": "execute_result"
    }
   ],
   "source": [
    "import importlib\n",
    "import numpy as np\n",
    "import NN\n",
    "importlib.reload(NN)"
   ]
  },
  {
   "cell_type": "code",
   "execution_count": 91,
   "metadata": {},
   "outputs": [],
   "source": [
    "layers = [\n",
    "    NN.DenseLayer(2, 0, NN.dummy_activation, NN.dummy_activation, True, False),\n",
    "    NN.DenseLayer(4, 2, NN.sigmoid, NN.sigmoid_prime),\n",
    "    NN.DenseLayer(2, 4, NN.sigmoid, NN.sigmoid_prime, False, True)\n",
    "]\n",
    "X = np.array([[1, 1], [1, 2]])\n",
    "y = np.array([[0], [1]])\n"
   ]
  },
  {
   "cell_type": "code",
   "execution_count": 93,
   "metadata": {},
   "outputs": [
    {
     "name": "stdout",
     "output_type": "stream",
     "text": [
      "0.11787734199801195\n",
      "0.03719390424564087\n"
     ]
    }
   ],
   "source": [
    "a2 = layers[1].forward_propagation(X)\n",
    "print(layers[2].loss(a2, y, 2))\n",
    "for i in range(100):\n",
    "    NN.backward_propagate(layers, X, y, 0.01)\n",
    "    \n",
    "a2 = layers[1].forward_propagation(X)\n",
    "print(layers[2].loss(a2, y, 2))"
   ]
  },
  {
   "cell_type": "code",
   "execution_count": 11,
   "metadata": {},
   "outputs": [
    {
     "data": {
      "text/plain": [
       "array([[ 0],\n",
       "       [-1]])"
      ]
     },
     "execution_count": 11,
     "metadata": {},
     "output_type": "execute_result"
    }
   ],
   "source": []
  }
 ],
 "metadata": {
  "kernelspec": {
   "display_name": "base",
   "language": "python",
   "name": "python3"
  },
  "language_info": {
   "codemirror_mode": {
    "name": "ipython",
    "version": 3
   },
   "file_extension": ".py",
   "mimetype": "text/x-python",
   "name": "python",
   "nbconvert_exporter": "python",
   "pygments_lexer": "ipython3",
   "version": "3.10.9"
  },
  "orig_nbformat": 4
 },
 "nbformat": 4,
 "nbformat_minor": 2
}
