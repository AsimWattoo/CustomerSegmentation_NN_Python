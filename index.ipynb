{
 "cells": [
  {
   "cell_type": "code",
   "execution_count": 11,
   "metadata": {},
   "outputs": [],
   "source": [
    "import importlib\n",
    "import numpy as np\n",
    "import NN\n",
    "importlib.reload(NN)\n",
    "from dvclive import Live"
   ]
  },
  {
   "cell_type": "code",
   "execution_count": 12,
   "metadata": {},
   "outputs": [],
   "source": [
    "layers = [\n",
    "    NN.DenseLayer(2, 0, NN.dummy_activation, NN.dummy_activation, True, False),\n",
    "    NN.DenseLayer(4, 2, NN.sigmoid, NN.sigmoid_prime),\n",
    "    NN.DenseLayer(2, 4, NN.sigmoid, NN.sigmoid_prime, False, True)\n",
    "]\n",
    "X = np.array([[1, 1], [1, 2]])\n",
    "y = np.array([[0], [1]])\n"
   ]
  },
  {
   "cell_type": "code",
   "execution_count": 13,
   "metadata": {},
   "outputs": [],
   "source": [
    "learning_rate = 0.01\n",
    "with Live(save_dvc_exp=True, exp_message= f'Simple NN with Learning Rate {learning_rate}') as live:\n",
    "    live.log_param(\"Learning Rate\", learning_rate)\n",
    "    for i in range(100):\n",
    "        live.log_param('Epoch', i)\n",
    "        a2 = layers[1].forward_propagation(X)\n",
    "        loss = layers[2].loss(a2, y, 2)\n",
    "        live.log_metric(\"Loss\", loss)\n",
    "        NN.backward_propagate(layers, X, y, learning_rate)\n",
    "        live.next_step()"
   ]
  }
 ],
 "metadata": {
  "kernelspec": {
   "display_name": "base",
   "language": "python",
   "name": "python3"
  },
  "language_info": {
   "codemirror_mode": {
    "name": "ipython",
    "version": 3
   },
   "file_extension": ".py",
   "mimetype": "text/x-python",
   "name": "python",
   "nbconvert_exporter": "python",
   "pygments_lexer": "ipython3",
   "version": "3.10.9"
  },
  "orig_nbformat": 4
 },
 "nbformat": 4,
 "nbformat_minor": 2
}
