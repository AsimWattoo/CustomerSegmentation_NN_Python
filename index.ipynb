{
 "cells": [
  {
   "cell_type": "code",
   "execution_count": 26,
   "metadata": {},
   "outputs": [],
   "source": [
    "import importlib\n",
    "import numpy as np\n",
    "import matplotlib.pyplot as plt\n",
    "from matplotlib import cm\n",
    "from matplotlib.ticker import LinearLocator\n",
    "from matplotlib._tri import Triangulation\n",
    "import NN\n",
    "importlib.reload(NN)\n",
    "from dvclive import Live"
   ]
  },
  {
   "cell_type": "code",
   "execution_count": 27,
   "metadata": {},
   "outputs": [],
   "source": [
    "layers = [\n",
    "    NN.DenseLayer(2, 0, NN.dummy_activation, NN.dummy_activation, True, False),\n",
    "    NN.DenseLayer(4, 2, NN.sigmoid, NN.sigmoid_prime),\n",
    "    NN.DenseLayer(2, 4, NN.sigmoid, NN.sigmoid_prime, False, True)\n",
    "]\n",
    "learning_rate = 0.01\n",
    "lamda = 0.2"
   ]
  },
  {
   "cell_type": "code",
   "execution_count": null,
   "metadata": {},
   "outputs": [],
   "source": []
  },
  {
   "cell_type": "code",
   "execution_count": 28,
   "metadata": {},
   "outputs": [
    {
     "ename": "ValueError",
     "evalue": "operands could not be broadcast together with shapes (2,2) (2,5) ",
     "output_type": "error",
     "traceback": [
      "\u001b[1;31m---------------------------------------------------------------------------\u001b[0m",
      "\u001b[1;31mValueError\u001b[0m                                Traceback (most recent call last)",
      "Cell \u001b[1;32mIn[28], line 10\u001b[0m\n\u001b[0;32m      8\u001b[0m losses\u001b[39m.\u001b[39mappend(loss)\n\u001b[0;32m      9\u001b[0m \u001b[39m# live.log_metric(\"Loss\", loss)\u001b[39;00m\n\u001b[1;32m---> 10\u001b[0m NN\u001b[39m.\u001b[39;49mbackward_propagate(layers, X, y, learning_rate, lamda)\n",
      "File \u001b[1;32md:\\Work\\Programming\\Jupyter\\Customer Segmentation NN\\NN.py:125\u001b[0m, in \u001b[0;36mbackward_propagate\u001b[1;34m(layers, X, y, alpha, lamda)\u001b[0m\n\u001b[0;32m    123\u001b[0m for i in range(layers.__len__() - 1, 0, -1):\n\u001b[0;32m    124\u001b[0m     layer = layers[i]\n\u001b[1;32m--> 125\u001b[0m     next_error = layer.calculate_error(activations[i - 1], y, None if layer.is_output else next_error, None if layer.is_output else layers[i + 1].weights, lamda)\n\u001b[0;32m    126\u001b[0m     errors.insert(0, next_error)\n\u001b[0;32m    127\u001b[0m \n",
      "File \u001b[1;32md:\\Work\\Programming\\Jupyter\\Customer Segmentation NN\\NN.py:38\u001b[0m, in \u001b[0;36mcalculate_error\u001b[1;34m(self, X, output, lamda, next_error, next_weights)\u001b[0m\n\u001b[0;32m     36\u001b[0m         temp_prediction = np.reshape(prediction[:, i], (1, -1)) # (1, m)\n\u001b[0;32m     37\u001b[0m         error[i, :] = temp_prediction - temp_output\n\u001b[1;32m---> 38\u001b[0m     return  (1 / m) * error + (lamda / m) * temp_weights;\n\u001b[0;32m     39\u001b[0m else:\n\u001b[0;32m     40\u001b[0m     if next_error is None or next_weights is None:\n",
      "\u001b[1;31mValueError\u001b[0m: operands could not be broadcast together with shapes (2,2) (2,5) "
     ]
    }
   ],
   "source": [
    "# with Live(save_dvc_exp=True) as live:\n",
    "    # live.log_param(\"Learning Rate\", learning_rate)\n",
    "losses = []\n",
    "for i in range(2000):\n",
    "    # live.log_param('Epoch', i)\n",
    "    a2 = layers[1].forward_propagation(X)\n",
    "    loss = layers[2].loss(a2, y, 2, lamda)\n",
    "    losses.append(loss)\n",
    "    # live.log_metric(\"Loss\", loss)\n",
    "    NN.backward_propagate(layers, X, y, learning_rate, lamda)\n",
    "    # live.next_step()"
   ]
  }
 ],
 "metadata": {
  "kernelspec": {
   "display_name": "base",
   "language": "python",
   "name": "python3"
  },
  "language_info": {
   "codemirror_mode": {
    "name": "ipython",
    "version": 3
   },
   "file_extension": ".py",
   "mimetype": "text/x-python",
   "name": "python",
   "nbconvert_exporter": "python",
   "pygments_lexer": "ipython3",
   "version": "3.10.9"
  },
  "orig_nbformat": 4
 },
 "nbformat": 4,
 "nbformat_minor": 2
}
