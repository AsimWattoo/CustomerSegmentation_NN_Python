{
 "cells": [
  {
   "cell_type": "code",
   "execution_count": 90,
   "metadata": {},
   "outputs": [
    {
     "data": {
      "text/plain": [
       "<module 'NN' from 'd:\\\\Work\\\\Programming\\\\Jupyter\\\\Customer Segmentation NN\\\\NN.py'>"
      ]
     },
     "execution_count": 90,
     "metadata": {},
     "output_type": "execute_result"
    }
   ],
   "source": [
    "import importlib\n",
    "import numpy as np\n",
    "import NN\n",
    "importlib.reload(NN)"
   ]
  },
  {
   "cell_type": "code",
   "execution_count": 91,
   "metadata": {},
   "outputs": [],
   "source": [
    "layers = [\n",
    "    NN.DenseLayer(2, 0, NN.dummy_activation, NN.dummy_activation, True, False),\n",
    "    NN.DenseLayer(4, 2, NN.sigmoid, NN.sigmoid_prime),\n",
    "    NN.DenseLayer(2, 4, NN.sigmoid, NN.sigmoid_prime, False, True)\n",
    "]\n",
    "X = np.array([[1, 1], [1, 2]])\n",
    "y = np.array([[0], [1]])\n"
   ]
  },
  {
   "cell_type": "code",
   "execution_count": 92,
   "metadata": {},
   "outputs": [
    {
     "name": "stdout",
     "output_type": "stream",
     "text": [
      "[[-0.25577024  0.40866603 -0.15528593 -0.51242692 -0.33958153]\n",
      " [ 0.27860503  0.03935532  2.1142968  -0.16885269 -0.15172112]]\n",
      "[[-0.25577024  2.77350642 -4.44738097 -2.5695866   2.58854144]\n",
      " [ 0.27860503 -2.48190474  5.45855576  1.3048295  -2.91411167]]\n"
     ]
    }
   ],
   "source": [
    "a2 = layers[1].forward_propagation(X)\n",
    "print(layers[2].loss(a2, y, 2))\n",
    "for i in range(100):\n",
    "    NN.backward_propagate(layers, X, y, 0.01)\n",
    "    \n",
    "a2 = layers[1].forward_propagation(X)\n",
    "print(layers[2].loss(a2, y, 2))"
   ]
  },
  {
   "cell_type": "code",
   "execution_count": 11,
   "metadata": {},
   "outputs": [
    {
     "data": {
      "text/plain": [
       "array([[ 0],\n",
       "       [-1]])"
      ]
     },
     "execution_count": 11,
     "metadata": {},
     "output_type": "execute_result"
    }
   ],
   "source": []
  }
 ],
 "metadata": {
  "kernelspec": {
   "display_name": "base",
   "language": "python",
   "name": "python3"
  },
  "language_info": {
   "codemirror_mode": {
    "name": "ipython",
    "version": 3
   },
   "file_extension": ".py",
   "mimetype": "text/x-python",
   "name": "python",
   "nbconvert_exporter": "python",
   "pygments_lexer": "ipython3",
   "version": "3.10.9"
  },
  "orig_nbformat": 4
 },
 "nbformat": 4,
 "nbformat_minor": 2
}
